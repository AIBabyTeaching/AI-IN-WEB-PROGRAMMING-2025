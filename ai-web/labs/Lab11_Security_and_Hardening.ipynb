{
 "cells": [
  {
   "cell_type": "markdown",
   "id": "d2771490",
   "metadata": {},
   "source": [
    "# Lab 11 · Security and Hardening\n",
    "\n",
    "*This lab notebook provides guided steps. All commands are intended for local execution.*"
   ]
  },
  {
   "cell_type": "markdown",
   "id": "02397a5c",
   "metadata": {},
   "source": [
    "## Objectives\n",
    "- Production CORS settings are tightened.\n",
    "- Payload limits and allow-lists are described.\n",
    "- SlowAPI rate limiting and prompt-injection checklists are provided."
   ]
  },
  {
   "cell_type": "markdown",
   "id": "0cf8feb0",
   "metadata": {},
   "source": [
    "## What will be learned\n",
    "- Environment-specific CORS strategies are reinforced.\n",
    "- Input validation patterns are documented for safety.\n",
    "- Prompt-injection mitigations are rehearsed for RAG systems."
   ]
  },
  {
   "cell_type": "markdown",
   "id": "08d0fd32",
   "metadata": {},
   "source": [
    "## Prerequisites & install\n",
    "The following commands are intended for local execution.\n",
    "\n",
    "```bash\n",
    "cd ai-web/backend\n",
    ". .venv/bin/activate\n",
    "pip install slowapi\n",
    "```"
   ]
  },
  {
   "cell_type": "markdown",
   "id": "b63f9908",
   "metadata": {},
   "source": [
    "## Step-by-step tasks\n",
    "### Step 1: Security settings module\n",
    "Security utilities are collected for reuse."
   ]
  },
  {
   "cell_type": "code",
   "execution_count": null,
   "id": "3cea2a26",
   "metadata": {},
   "outputs": [],
   "source": [
    "from pathlib import Path\n",
    "security_path = Path(\"ai-web/backend/app/security.py\")\n",
    "security_path.write_text('''from slowapi import Limiter\n",
    "from slowapi.util import get_remote_address\n",
    "from fastapi import FastAPI\n",
    "from fastapi.middleware.cors import CORSMiddleware\n",
    "\n",
    "SAFE_ORIGINS = [\"https://example.com\"]\n",
    "ALLOWED_FILES = {\".txt\", \".md\"}\n",
    "limiter = Limiter(key_func=get_remote_address, default_limits=[\"60/minute\"])\n",
    "\n",
    "\n",
    "def configure_security(app: FastAPI):\n",
    "    app.state.limiter = limiter\n",
    "    app.add_middleware(\n",
    "        CORSMiddleware,\n",
    "        allow_origins=SAFE_ORIGINS,\n",
    "        allow_credentials=True,\n",
    "        allow_methods=[\"GET\", \"POST\"],\n",
    "        allow_headers=[\"Content-Type\", \"Authorization\"],\n",
    "    )\n",
    "''')\n",
    "print(\"Security module was written.\")"
   ]
  },
  {
   "cell_type": "markdown",
   "id": "0d84a6c4",
   "metadata": {},
   "source": [
    "### Step 2: Payload guard\n",
    "A payload guard demonstrates enforcing limits and allow-lists."
   ]
  },
  {
   "cell_type": "code",
   "execution_count": null,
   "id": "efc3cef1",
   "metadata": {},
   "outputs": [],
   "source": [
    "from pathlib import Path\n",
    "limits_path = Path(\"ai-web/backend/app/guards.py\")\n",
    "limits_path.write_text('''from fastapi import HTTPException, UploadFile\n",
    "\n",
    "MAX_PAYLOAD_BYTES = 1024 * 1024\n",
    "ALLOWED_EXTENSIONS = {\".txt\", \".md\", \".pdf\"}\n",
    "\n",
    "\n",
    "def enforce_size(data: bytes):\n",
    "    if len(data) > MAX_PAYLOAD_BYTES:\n",
    "        raise HTTPException(status_code=413, detail=\"Payload size limit was exceeded.\")\n",
    "\n",
    "\n",
    "def enforce_extension(upload: UploadFile):\n",
    "    if not any(upload.filename.endswith(ext) for ext in ALLOWED_EXTENSIONS):\n",
    "        raise HTTPException(status_code=400, detail=\"File extension was not allowed.\")\n",
    "''')\n",
    "print(\"Payload guard was documented.\")"
   ]
  },
  {
   "cell_type": "markdown",
   "id": "cb0dcd85",
   "metadata": {},
   "source": [
    "### Step 3: Prompt-injection checklist\n",
    "A checklist is referenced for the RAG pipeline."
   ]
  },
  {
   "cell_type": "markdown",
   "id": "18f8ed24",
   "metadata": {},
   "source": [
    "A checklist is maintained:\n",
    "- External instructions are screened for deny-list phrases.\n",
    "- Citations are verified prior to response emission.\n",
    "- Sensitive tools are disabled when citations are missing."
   ]
  },
  {
   "cell_type": "markdown",
   "id": "b62feeb7",
   "metadata": {},
   "source": [
    "## Validation / acceptance checks\n",
    "```bash\n",
    "# locally\n",
    "curl http://localhost:8000/health\n",
    "```\n",
    "- The hardened configuration preserves the health endpoint for monitoring.\n",
    "- React development mode shows the described UI state without console errors."
   ]
  },
  {
   "cell_type": "markdown",
   "id": "ea497b94",
   "metadata": {},
   "source": [
    "## Homework / extensions\n",
    "- Rate limiting thresholds are tuned for production traffic patterns.\n",
    "- Security review notes are captured alongside deployment manifests."
   ]
  }
 ],
 "metadata": {},
 "nbformat": 4,
 "nbformat_minor": 5
}
