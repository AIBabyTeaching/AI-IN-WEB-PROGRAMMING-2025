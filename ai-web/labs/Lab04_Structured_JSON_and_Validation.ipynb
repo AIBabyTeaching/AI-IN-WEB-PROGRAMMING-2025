{
 "cells": [
  {
   "cell_type": "markdown",
   "id": "4d537063",
   "metadata": {},
   "source": [
    "# Lab 04 · Structured JSON and Validation\n",
    "\n",
    "*This lab notebook provides guided steps. All commands are intended for local execution.*"
   ]
  },
  {
   "cell_type": "markdown",
   "id": "696a6db3",
   "metadata": {},
   "source": [
    "## Objectives\n",
    "- A planner endpoint is produced that returns structured JSON.\n",
    "- Pydantic validation is applied to enforce schema guarantees.\n",
    "- Automatic repair strategies are outlined for invalid JSON."
   ]
  },
  {
   "cell_type": "markdown",
   "id": "b095e13f",
   "metadata": {},
   "source": [
    "## What will be learned\n",
    "- Structured JSON responses are validated on the backend.\n",
    "- Error handling flows for invalid planner output are reviewed.\n",
    "- Lightweight repair attempts are documented for client consumption."
   ]
  },
  {
   "cell_type": "markdown",
   "id": "de2a0237",
   "metadata": {},
   "source": [
    "## Prerequisites & install\n",
    "The following commands are intended for local execution.\n",
    "\n",
    "```bash\n",
    "cd ai-web/backend\n",
    ". .venv/bin/activate\n",
    "pip install pydantic\n",
    "```"
   ]
  },
  {
   "cell_type": "markdown",
   "id": "011e2425",
   "metadata": {},
   "source": [
    "## Step-by-step tasks\n",
    "### Step 1: Planner schema definition\n",
    "A schema is defined so planner responses remain consistent."
   ]
  },
  {
   "cell_type": "code",
   "execution_count": null,
   "id": "d6e172ad",
   "metadata": {},
   "outputs": [],
   "source": [
    "from pathlib import Path\n",
    "planner_path = Path(\"ai-web/backend/app/planner.py\")\n",
    "planner_path.write_text('''from pydantic import BaseModel, Field, ValidationError\n",
    "from typing import List\n",
    "\n",
    "\n",
    "class Plan(BaseModel):\n",
    "    goal: str = Field(..., description=\"High level objective\")\n",
    "    steps: List[str] = Field(default_factory=list, description=\"Ordered plan steps\")\n",
    "\n",
    "\n",
    "def build_plan(goal: str) -> Plan:\n",
    "    steps = [\n",
    "        \"It is ensured that the goal is clarified.\",\n",
    "        \"Resources are gathered to support the plan.\",\n",
    "        \"Progress is reviewed upon completion.\",\n",
    "    ]\n",
    "    return Plan(goal=goal, steps=steps)\n",
    "\n",
    "\n",
    "def repair_plan(data: dict) -> Plan:\n",
    "    try:\n",
    "        return Plan(**data)\n",
    "    except ValidationError as exc:\n",
    "        fixed = {\"goal\": data.get(\"goal\", \"A goal was recorded.\"), \"steps\": []}\n",
    "        for idx, issue in enumerate(exc.errors()):\n",
    "            fixed[\"steps\"].append(f\"Step {idx + 1} was replaced because {issue['msg']}\")\n",
    "        return Plan(**fixed)\n",
    "''')\n",
    "print(\"Planner module was written.\")"
   ]
  },
  {
   "cell_type": "markdown",
   "id": "233bd136",
   "metadata": {},
   "source": [
    "### Step 2: API exposure\n",
    "The planner endpoint is exposed at /api/plan with validation."
   ]
  },
  {
   "cell_type": "code",
   "execution_count": null,
   "id": "ee6da1d7",
   "metadata": {},
   "outputs": [],
   "source": [
    "from pathlib import Path\n",
    "main_path = Path(\"ai-web/backend/app/main.py\")\n",
    "text = main_path.read_text()\n",
    "if \"plan_endpoint\" not in text:\n",
    "    addition = '''\n",
    "from pydantic import BaseModel\n",
    "from .planner import build_plan, repair_plan\n",
    "\n",
    "\n",
    "class PlanIn(BaseModel):\n",
    "    goal: str\n",
    "\n",
    "\n",
    "@app.post(\"/api/plan\")\n",
    "def plan_endpoint(payload: PlanIn):\n",
    "    plan = build_plan(payload.goal)\n",
    "    return plan.model_dump()\n",
    "\n",
    "\n",
    "@app.post(\"/api/plan/repair\")\n",
    "def plan_repair_endpoint(payload: dict):\n",
    "    plan = repair_plan(payload)\n",
    "    return plan.model_dump()\n",
    "'''\n",
    "    main_path.write_text(text.rstrip() + \"\n",
    "\" + addition)\n",
    "    print(\"Planner routes were appended.\")\n",
    "else:\n",
    "    print(\"Planner routes already present.\")"
   ]
  },
  {
   "cell_type": "markdown",
   "id": "d89179d6",
   "metadata": {},
   "source": [
    "## Validation / acceptance checks\n",
    "```bash\n",
    "# locally\n",
    "curl -X POST http://localhost:8000/api/plan -H 'Content-Type: application/json' -d '{\"goal\":\"Build a demo\"}'\n",
    "```\n",
    "- A JSON object containing a goal and an ordered list of steps is returned.\n",
    "- React development mode shows the described UI state without console errors."
   ]
  },
  {
   "cell_type": "markdown",
   "id": "df56a06e",
   "metadata": {},
   "source": [
    "## Homework / extensions\n",
    "- Client-side rendering of planner steps is drafted for the frontend.\n",
    "- Additional validation rules are explored for complex goals."
   ]
  }
 ],
 "metadata": {},
 "nbformat": 4,
 "nbformat_minor": 5
}
