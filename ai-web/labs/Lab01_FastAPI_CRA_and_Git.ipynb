{
 "cells": [
  {
   "cell_type": "markdown",
   "id": "467f598d",
   "metadata": {},
   "source": [
    "# Lab 01 · FastAPI, CRA, and Git\n",
    "\n",
    "*This lab notebook provides guided steps. All commands are intended for local execution.*"
   ]
  },
  {
   "cell_type": "markdown",
   "id": "16b4b2dc",
   "metadata": {},
   "source": [
    "## Objectives\n",
    "- A FastAPI backend is scaffolded with health and echo routes.\n",
    "- A Create React App frontend is outlined without using Vite.\n",
    "- A Git repository is initialized with environment templates."
   ]
  },
  {
   "cell_type": "markdown",
   "id": "64c70007",
   "metadata": {},
   "source": [
    "## What will be learned\n",
    "- The structure of a basic FastAPI service is reviewed.\n",
    "- Development-time CORS settings are configured.\n",
    "- Create React App scaffolding steps are rehearsed.\n",
    "- Git initialization practices are reinforced."
   ]
  },
  {
   "cell_type": "markdown",
   "id": "941c4bef",
   "metadata": {},
   "source": [
    "## Prerequisites & install\n",
    "The following commands are intended for local execution.\n",
    "\n",
    "```bash\n",
    "python --version\n",
    "node --version\n",
    "npm --version\n",
    "git --version\n",
    "\n",
    "# Backend environment preparation (local execution only)\n",
    "cd ai-web/backend\n",
    "python -m venv .venv\n",
    "# Windows: .venv\\Scripts\\activate\n",
    "# Unix/macOS:\n",
    ". .venv/bin/activate\n",
    "pip install fastapi uvicorn[standard] pydantic python-dotenv google-generativeai faiss-cpu numpy\n",
    "\n",
    "# Frontend creation (Create React App; no Vite)\n",
    "cd ../../\n",
    "npx create-react-app frontend\n",
    "cd frontend\n",
    "npm install\n",
    "```"
   ]
  },
  {
   "cell_type": "markdown",
   "id": "57f419af",
   "metadata": {},
   "source": [
    "## Step-by-step tasks\n",
    "Each step is executed locally so backend keys remain protected.\n",
    "\n",
    "### Step 1: Backend folder layout\n",
    "A backend folder is created and populated with required files."
   ]
  },
  {
   "cell_type": "code",
   "execution_count": null,
   "id": "95bd9ff5",
   "metadata": {},
   "outputs": [],
   "source": [
    "from pathlib import Path\n",
    "base = Path(\"ai-web/backend\")\n",
    "(base / \"app\").mkdir(parents=True, exist_ok=True)\n",
    "(base / \"app\" / \"__init__.py\").write_text(\"\n",
    "\")\n",
    "(base / \".env.example\").write_text('# Environment variables (never commit real keys)\n",
    "GEMINI_API_KEY=\n",
    "')\n",
    "(base / \"requirements.txt\").write_text('''fastapi\n",
    "uvicorn[standard]\n",
    "pydantic\n",
    "python-dotenv\n",
    "google-generativeai\n",
    "faiss-cpu\n",
    "numpy\n",
    "''')\n",
    "(base / \"app\" / \"main.py\").write_text('''from fastapi import FastAPI\n",
    "from fastapi.middleware.cors import CORSMiddleware\n",
    "from pydantic import BaseModel\n",
    "\n",
    "app = FastAPI()\n",
    "app.add_middleware(\n",
    "    CORSMiddleware,\n",
    "    allow_origins=[\"http://localhost:3000\"],\n",
    "    allow_methods=[\"*\"],\n",
    "    allow_headers=[\"*\"],\n",
    ")\n",
    "\n",
    "\n",
    "class EchoIn(BaseModel):\n",
    "    msg: str\n",
    "\n",
    "\n",
    "@app.get(\"/health\")\n",
    "def health():\n",
    "    return {\"status\": \"ok\"}\n",
    "\n",
    "\n",
    "@app.post(\"/echo\")\n",
    "def echo(payload: EchoIn):\n",
    "    return {\"msg\": payload.msg}\n",
    "''')\n",
    "print(\"Backend scaffold was written under ai-web/backend.\")"
   ]
  },
  {
   "cell_type": "markdown",
   "id": "7732749a",
   "metadata": {},
   "source": [
    "### Step 2: Frontend placeholders\n",
    "Frontend placeholders are positioned so Create React App components can be customized."
   ]
  },
  {
   "cell_type": "code",
   "execution_count": null,
   "id": "4c0335ff",
   "metadata": {},
   "outputs": [],
   "source": [
    "from pathlib import Path\n",
    "src = Path(\"ai-web/frontend/src\")\n",
    "(src / \"lib\").mkdir(parents=True, exist_ok=True)\n",
    "(src / \"lib\" / \"api.js\").write_text('''const BASE = process.env.REACT_APP_API_BASE || \"http://localhost:8000\";\n",
    "\n",
    "export async function post(path, body) {\n",
    "  const res = await fetch(`${BASE}${path}`, {\n",
    "    method: 'POST',\n",
    "    headers: { 'Content-Type': 'application/json' },\n",
    "    body: JSON.stringify(body)\n",
    "  });\n",
    "  if (!res.ok) {\n",
    "    throw new Error(`HTTP ${res.status}`);\n",
    "  }\n",
    "  return res.json();\n",
    "}\n",
    "''')\n",
    "(src / \"App.js\").write_text('''import React, { useState } from 'react';\n",
    "import { post } from './lib/api';\n",
    "\n",
    "function App() {\n",
    "  const [msg, setMsg] = useState('hello');\n",
    "  const [response, setResponse] = useState('');\n",
    "  const [loading, setLoading] = useState(false);\n",
    "  const [error, setError] = useState('');\n",
    "\n",
    "  async function handleSend() {\n",
    "    setLoading(true);\n",
    "    setError('');\n",
    "    try {\n",
    "      const json = await post('/echo', { msg });\n",
    "      setResponse(json.msg);\n",
    "    } catch (err) {\n",
    "      setError(String(err));\n",
    "    } finally {\n",
    "      setLoading(false);\n",
    "    }\n",
    "  }\n",
    "\n",
    "  return (\n",
    "    <main style={{ padding: 24 }}>\n",
    "      <h1>Lab 1 — Echo demo</h1>\n",
    "      <input value={msg} onChange={(event) => setMsg(event.target.value)} />\n",
    "      <button onClick={handleSend} disabled={loading}>Send</button>\n",
    "      {loading && <p>Loading…</p>}\n",
    "      {error && <p style={{ color: 'red' }}>{error}</p>}\n",
    "      <pre>{response}</pre>\n",
    "    </main>\n",
    "  );\n",
    "}\n",
    "\n",
    "export default App;\n",
    "''')\n",
    "print(\"Frontend placeholders were written under ai-web/frontend/src.\")"
   ]
  },
  {
   "cell_type": "markdown",
   "id": "d6f8935c",
   "metadata": {},
   "source": [
    "### Step 3: Git initialization\n",
    "Git is initialized locally so changes can be tracked."
   ]
  },
  {
   "cell_type": "markdown",
   "id": "8e7e903f",
   "metadata": {},
   "source": [
    "```bash\n",
    "cd ai-web\n",
    "git init\n",
    "git add .\n",
    "git commit -m \"Lab 1 scaffold\"\n",
    "```"
   ]
  },
  {
   "cell_type": "markdown",
   "id": "3728acf9",
   "metadata": {},
   "source": [
    "## Validation / acceptance checks\n",
    "```bash\n",
    "# locally\n",
    "curl http://localhost:8000/health\n",
    "curl -X POST http://localhost:8000/echo -H 'Content-Type: application/json' -d '{\"msg\":\"hello\"}'\n",
    "```\n",
    "- HTTP 200 responses include status \"ok\" and the echoed payload.\n",
    "- React development mode shows the described UI state without console errors."
   ]
  },
  {
   "cell_type": "markdown",
   "id": "201265c3",
   "metadata": {},
   "source": [
    "## Homework / extensions\n",
    "- A README entry is expanded to document backend and frontend start commands.\n",
    "- A GitHub repository is connected for remote backups."
   ]
  }
 ],
 "metadata": {},
 "nbformat": 4,
 "nbformat_minor": 5
}
