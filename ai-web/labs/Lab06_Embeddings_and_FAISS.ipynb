{
 "cells": [
  {
   "cell_type": "markdown",
   "id": "eafe495a",
   "metadata": {},
   "source": [
    "# Lab 06 · Embeddings and FAISS\n",
    "\n",
    "*This lab notebook provides guided steps. All commands are intended for local execution.*"
   ]
  },
  {
   "cell_type": "markdown",
   "id": "dfea26d0",
   "metadata": {},
   "source": [
    "## Objectives\n",
    "- Document chunking routines are introduced.\n",
    "- The \"text-embedding-004\" vectors are stored in a FAISS index.\n",
    "- A search endpoint returns top results with scores."
   ]
  },
  {
   "cell_type": "markdown",
   "id": "b0390110",
   "metadata": {},
   "source": [
    "## What will be learned\n",
    "- Document preprocessing for embeddings is rehearsed.\n",
    "- FAISS index persistence is described.\n",
    "- Vector search endpoints are surfaced."
   ]
  },
  {
   "cell_type": "markdown",
   "id": "7eb68ac3",
   "metadata": {},
   "source": [
    "## Prerequisites & install\n",
    "The following commands are intended for local execution.\n",
    "\n",
    "```bash\n",
    "cd ai-web/backend\n",
    ". .venv/bin/activate\n",
    "pip install faiss-cpu google-generativeai numpy\n",
    "```"
   ]
  },
  {
   "cell_type": "markdown",
   "id": "b6f4be53",
   "metadata": {},
   "source": [
    "## Step-by-step tasks\n",
    "### Step 1: Chunking utility\n",
    "A chunking helper is added so documents are segmented."
   ]
  },
  {
   "cell_type": "code",
   "execution_count": null,
   "id": "0e83f8b5",
   "metadata": {},
   "outputs": [],
   "source": [
    "from pathlib import Path\n",
    "vector_path = Path(\"ai-web/backend/app/vector.py\")\n",
    "vector_path.write_text('''import json\n",
    "import os\n",
    "from pathlib import Path\n",
    "from typing import List, Tuple\n",
    "\n",
    "import google.generativeai as genai\n",
    "import numpy as np\n",
    "import faiss\n",
    "\n",
    "\n",
    "DATA_DIR = Path(__file__).resolve().parent / \"data\"\n",
    "DATA_DIR.mkdir(parents=True, exist_ok=True)\n",
    "INDEX_FILE = DATA_DIR / \"embeddings.index\"\n",
    "META_FILE = DATA_DIR / \"metadata.json\"\n",
    "\n",
    "\n",
    "def chunk_text(text: str, size: int = 400) -> List[str]:\n",
    "  return [text[i:i + size] for i in range(0, len(text), size) if text[i:i + size].strip()]\n",
    "\n",
    "\n",
    "def embed_chunks(chunks: List[str]) -> np.ndarray:\n",
    "  api_key = os.environ.get('GEMINI_API_KEY', '')\n",
    "  if not api_key:\n",
    "    raise RuntimeError('A backend API key is required for embeddings.')\n",
    "  genai.configure(api_key=api_key)\n",
    "  model = genai.EmbeddingModel(model_name='text-embedding-004')\n",
    "  vectors = model.embed_content([{ \"title\": f\"Chunk {idx}\", \"content\": chunk } for idx, chunk in enumerate(chunks)])\n",
    "  return np.array([item.values for item in vectors], dtype=np.float32)\n",
    "\n",
    "\n",
    "def save_index(chunks: List[str], vectors: np.ndarray) -> None:\n",
    "  index = faiss.IndexFlatIP(vectors.shape[1])\n",
    "  faiss.normalize_L2(vectors)\n",
    "  index.add(vectors)\n",
    "  faiss.write_index(index, str(INDEX_FILE))\n",
    "  META_FILE.write_text(json.dumps({\"chunks\": chunks}))\n",
    "\n",
    "\n",
    "def load_index() -> Tuple[faiss.Index, List[str]]:\n",
    "  index = faiss.read_index(str(INDEX_FILE))\n",
    "  chunks = json.loads(META_FILE.read_text())[\"chunks\"]\n",
    "  return index, chunks\n",
    "\n",
    "\n",
    "def search(query: str, top_k: int = 3) -> List[Tuple[str, float]]:\n",
    "  index, chunks = load_index()\n",
    "  query_vec = embed_chunks([query])\n",
    "  faiss.normalize_L2(query_vec)\n",
    "  scores, neighbors = index.search(query_vec, top_k)\n",
    "  return [(chunks[i], float(scores[0][pos])) for pos, i in enumerate(neighbors[0])]\n",
    "''')\n",
    "print(\"Vector helper was written.\")"
   ]
  },
  {
   "cell_type": "markdown",
   "id": "0af0c4c5",
   "metadata": {},
   "source": [
    "### Step 2: Index builder cell\n",
    "An index is created from a small sample document."
   ]
  },
  {
   "cell_type": "code",
   "execution_count": null,
   "id": "d51ca9ab",
   "metadata": {},
   "outputs": [],
   "source": [
    "import sys\n",
    "from pathlib import Path\n",
    "\n",
    "sys.path.append(str(Path('ai-web/backend')))\n",
    "from app.vector import chunk_text, embed_chunks, save_index\n",
    "\n",
    "sample_text = \"\"\"This course demonstrates AI in web programming.\n",
    "The backend relies on FastAPI and Gemini proxies.\n",
    "Vector search provides relevant snippets.\n",
    "\"\"\"\n",
    "chunks = chunk_text(sample_text)\n",
    "vectors = embed_chunks(chunks)\n",
    "save_index(chunks, vectors)\n",
    "print('Index was generated with', len(chunks), 'chunks.')"
   ]
  },
  {
   "cell_type": "markdown",
   "id": "c7f13eeb",
   "metadata": {},
   "source": [
    "### Step 3: Search endpoint\n",
    "A FastAPI endpoint is published for vector search."
   ]
  },
  {
   "cell_type": "code",
   "execution_count": null,
   "id": "dafa4a26",
   "metadata": {},
   "outputs": [],
   "source": [
    "from pathlib import Path\n",
    "main_path = Path(\"ai-web/backend/app/main.py\")\n",
    "text = main_path.read_text()\n",
    "if \"search_endpoint\" not in text:\n",
    "    addition = '''\n",
    "from typing import Optional\n",
    "from .vector import search\n",
    "\n",
    "\n",
    "@app.get(\"/api/search\")\n",
    "def search_endpoint(q: str, k: Optional[int] = 3):\n",
    "    results = search(q, int(k))\n",
    "    return {\"results\": [{\"text\": text, \"score\": score} for text, score in results]}\n",
    "'''\n",
    "    main_path.write_text(text.rstrip() + \"\n",
    "\" + addition)\n",
    "    print(\"Search endpoint was appended.\")\n",
    "else:\n",
    "    print(\"Search endpoint already present.\")"
   ]
  },
  {
   "cell_type": "markdown",
   "id": "49212d07",
   "metadata": {},
   "source": [
    "## Validation / acceptance checks\n",
    "```bash\n",
    "# locally\n",
    "curl 'http://localhost:8000/api/search?q=fastapi&k=2'\n",
    "```\n",
    "- A JSON response containing scored chunks is observed.\n",
    "- React development mode shows the described UI state without console errors."
   ]
  },
  {
   "cell_type": "markdown",
   "id": "28f7d673",
   "metadata": {},
   "source": [
    "## Homework / extensions\n",
    "- Periodic index rebuild strategies are evaluated for large document sets.\n",
    "- Client-side rendering of search results is explored."
   ]
  }
 ],
 "metadata": {},
 "nbformat": 4,
 "nbformat_minor": 5
}
