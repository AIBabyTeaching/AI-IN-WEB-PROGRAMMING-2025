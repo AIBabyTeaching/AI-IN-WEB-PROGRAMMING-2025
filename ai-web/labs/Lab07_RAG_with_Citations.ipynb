{
 "cells": [
  {
   "cell_type": "markdown",
   "id": "f0441c61",
   "metadata": {},
   "source": [
    "# Lab 07 · RAG with Citations\n",
    "\n",
    "*This lab notebook provides guided steps. All commands are intended for local execution.*"
   ]
  },
  {
   "cell_type": "markdown",
   "id": "b68688af",
   "metadata": {},
   "source": [
    "## Objectives\n",
    "- Retrieved chunks are combined into grounded answers.\n",
    "- Inline citation markers such as [S1] are emitted.\n",
    "- Refusals are documented when no evidence is present."
   ]
  },
  {
   "cell_type": "markdown",
   "id": "a4a0b43b",
   "metadata": {},
   "source": [
    "## What will be learned\n",
    "- Response assembly with citations is structured.\n",
    "- Evidence gating ensures unsupported answers are refused.\n",
    "- Backend orchestration for RAG is reinforced."
   ]
  },
  {
   "cell_type": "markdown",
   "id": "fa8be19a",
   "metadata": {},
   "source": [
    "## Prerequisites & install\n",
    "The following commands are intended for local execution.\n",
    "\n",
    "```bash\n",
    "cd ai-web/backend\n",
    ". .venv/bin/activate\n",
    "pip install google-generativeai\n",
    "```"
   ]
  },
  {
   "cell_type": "markdown",
   "id": "cbbe60d5",
   "metadata": {},
   "source": [
    "## Step-by-step tasks\n",
    "### Step 1: RAG helper\n",
    "A helper combines retrieved chunks with a Gemini completion."
   ]
  },
  {
   "cell_type": "code",
   "execution_count": null,
   "id": "ba2f28b7",
   "metadata": {},
   "outputs": [],
   "source": [
    "from pathlib import Path\n",
    "rag_path = Path(\"ai-web/backend/app/rag.py\")\n",
    "rag_path.write_text('''from typing import List\n",
    "\n",
    "from .vector import search\n",
    "from .llm import chat\n",
    "\n",
    "\n",
    "def answer(question: str) -> dict:\n",
    "    retrieved = search(question, 3)\n",
    "    if not retrieved:\n",
    "        return {\"answer\": \"No supported answer can be provided without evidence.\", \"chunks\": []}\n",
    "    citations = [f\"[S{idx + 1}]\" for idx in range(len(retrieved))]\n",
    "    prompt = [\n",
    "        {\"role\": \"user\", \"content\": f\"Question: {question}. Use only the provided snippets.\"},\n",
    "        {\"role\": \"model\", \"content\": \"Sources:\n",
    "\" + \"\n",
    "\".join(f\"[S{idx + 1}] {text}\" for idx, (text, _) in enumerate(retrieved))}\n",
    "    ]\n",
    "    completion = chat(prompt)\n",
    "    return {\"answer\": completion, \"chunks\": [{\"id\": f\"S{idx + 1}\", \"text\": text, \"score\": score} for idx, (text, score) in enumerate(retrieved)], \"citations\": citations}\n",
    "''')\n",
    "print(\"RAG helper was created.\")"
   ]
  },
  {
   "cell_type": "markdown",
   "id": "854f0381",
   "metadata": {},
   "source": [
    "### Step 2: Endpoint exposure\n",
    "The RAG helper is surfaced under /api/answer."
   ]
  },
  {
   "cell_type": "code",
   "execution_count": null,
   "id": "70160a31",
   "metadata": {},
   "outputs": [],
   "source": [
    "from pathlib import Path\n",
    "main_path = Path(\"ai-web/backend/app/main.py\")\n",
    "text = main_path.read_text()\n",
    "if \"answer_endpoint\" not in text:\n",
    "    addition = '''\n",
    "from .rag import answer as answer_question\n",
    "\n",
    "\n",
    "@app.get(\"/api/answer\")\n",
    "def answer_endpoint(q: str):\n",
    "    result = answer_question(q)\n",
    "    if not result.get(\"chunks\"):\n",
    "        return {\"answer\": \"No supported answer can be provided without evidence.\", \"citations\": []}\n",
    "    return result\n",
    "'''\n",
    "    main_path.write_text(text.rstrip() + \"\n",
    "\" + addition)\n",
    "    print(\"Answer endpoint was appended.\")\n",
    "else:\n",
    "    print(\"Answer endpoint already present.\")"
   ]
  },
  {
   "cell_type": "markdown",
   "id": "b9b388c7",
   "metadata": {},
   "source": [
    "## Validation / acceptance checks\n",
    "```bash\n",
    "# locally\n",
    "curl 'http://localhost:8000/api/answer?q=course goals'\n",
    "```\n",
    "- A cited answer referencing [S1] style markers is produced when evidence exists.\n",
    "- React development mode shows the described UI state without console errors."
   ]
  },
  {
   "cell_type": "markdown",
   "id": "6e287521",
   "metadata": {},
   "source": [
    "## Homework / extensions\n",
    "- Citation rendering is enhanced in the frontend chat UI.\n",
    "- Fallback messaging is drafted for unanswered questions."
   ]
  }
 ],
 "metadata": {},
 "nbformat": 4,
 "nbformat_minor": 5
}
