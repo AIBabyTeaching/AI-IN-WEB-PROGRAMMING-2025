{
 "cells": [
  {
   "cell_type": "markdown",
   "id": "3191ae5d",
   "metadata": {},
   "source": [
    "# Lab 01 · FastAPI, Vite, and Git\n",
    "\n",
    "*This lab notebook provides guided steps. All commands are intended for local execution.*"
   ]
  },
  {
   "cell_type": "markdown",
   "id": "79fa3288",
   "metadata": {},
   "source": [
    "## Objectives\n",
    "- A FastAPI backend is scaffolded with health and echo routes.\n",
    "- A Vite React frontend is outlined with modern tooling defaults.\n",
    "- A Git repository is initialized with environment templates."
   ]
  },
  {
   "cell_type": "markdown",
   "id": "1a81d1e0",
   "metadata": {},
   "source": [
    "## What will be learned\n",
    "- The structure of a basic FastAPI service is reviewed.\n",
    "- Development-time CORS settings are configured.\n",
    "- Vite-powered React scaffolding steps are rehearsed.\n",
    "- Git initialization practices are reinforced."
   ]
  },
  {
   "cell_type": "markdown",
   "id": "8ce3bdc5",
   "metadata": {},
   "source": [
    "\n",
    "### FastAPI framework primer\n",
    "\n",
    "**FastAPI in a nutshell.** [FastAPI](https://fastapi.tiangolo.com/) is an asynchronous Python web framework that automatically maps HTTP paths to Python callables called *path operations*. Typed request and response models built with [Pydantic](https://docs.pydantic.dev/) provide validation, while async support keeps expensive AI inference calls from blocking the event loop.\n",
    "\n",
    "#### Core building blocks\n",
    "1. **Application entry point** — Create a `FastAPI()` instance in `app/main.py` and register startup/shutdown handlers to open or close model clients. [Docs: First Steps](https://fastapi.tiangolo.com/tutorial/first-steps/)\n",
    "2. **Routers and path operations** — Organize endpoints in `routers/` modules with `APIRouter` to keep chat, embeddings, and admin surfaces separate. Mount each router in `main.py` to expose `/api/chat`, `/api/embeddings`, etc. [Docs: APIRouter](https://fastapi.tiangolo.com/tutorial/bigger-applications/)\n",
    "3. **Pydantic models** — Declare request/response schemas in `schemas.py` so prompts, system messages, and model options are validated before invoking inference. [Docs: Request Body](https://fastapi.tiangolo.com/tutorial/body/)\n",
    "4. **Dependency injection** — Use `Depends` to pass shared services (OpenAI client, vector store, cache) into route functions without manually instantiating them. This keeps AI integrations testable and configurable. [Docs: Dependencies](https://fastapi.tiangolo.com/tutorial/dependencies/)\n",
    "5. **Background tasks** — Offload long-running work such as audit logging, metrics collection, or follow-up summarization via `BackgroundTasks`. Students can immediately see how to chain AI workflows beyond the initial response. [Docs: Background Tasks](https://fastapi.tiangolo.com/tutorial/background-tasks/)\n",
    "6. **Interactive OpenAPI docs** — FastAPI generates `/docs` and `/redoc` from your type hints, letting you verify model contracts, stream responses, and share live documentation with teammates. [Docs: Interactive API docs](https://fastapi.tiangolo.com/features/#interactive-api-docs)\n",
    "\n",
    "#### Tooling and project layout for AI routes\n",
    "- **Local server:** Run `uvicorn app.main:app --reload` for fast feedback while editing routers or schemas. Enable hot reload so AI inference tweaks are visible immediately. [Docs: Uvicorn](https://fastapi.tiangolo.com/deployment/uvicorn/)\n",
    "- **Environment management:** Load `.env` files with `python-dotenv` or FastAPI settings management to inject API keys, base URLs, and model IDs without hardcoding secrets.\n",
    "- **Folder structure:** Start with `app/main.py`, `app/routers/`, `app/schemas.py`, and `app/services/ai.py`. Keep retry utilities, tracing helpers, and vector database adapters in `services/` so routes remain thin controllers.\n",
    "- **Testing hooks (Optional):** Leverage FastAPI's `TestClient` to write unit tests that mock AI providers and confirm each router handles success, errors, and streaming payloads.\n",
    "\n",
    "### Vite + React framework primer\n",
    "\n",
    "#### Why Vite for React AI UIs\n",
    "The frontend labs rely on [Vite](https://vitejs.dev/guide/) to scaffold a React UI with lightning-fast hot module replacement, native ES module bundling, and first-class TypeScript. CLI commands such as `npm create vite@latest`, `npm install`, `npm run dev`, and `npm run build` (or their `pnpm`/`yarn` equivalents) keep iteration tight while preparing optimized builds for deployment.\n",
    "\n",
    "#### Core tooling and project conventions\n",
    "- **Dev server workflow:** `npm run dev` launches a Vite server that can [proxy](https://vitejs.dev/config/server-options.html#server-proxy) `/api` calls to FastAPI, eliminating CORS friction while you develop AI features.\n",
    "- **Environment variables:** Prefix keys with `VITE_` (e.g., `VITE_API_BASE_URL`, `VITE_OPENAI_MODEL`) so they are exposed via `import.meta.env`. Use separate `.env.local` files for experimental model toggles.\n",
    "- **Module organization:** Mirror backend routers with feature folders like `src/features/chat/`, `src/features/embeddings/`, and keep shared helpers under `src/lib/` (`apiClient.js`, `retry.js`, `streamParser.js`).\n",
    "- **React hooks and state:** Follow the [React documentation](https://react.dev/learn) to combine `useState`, `useEffect`, and custom hooks that orchestrate fetch lifecycles. Patterns such as `useReducer` for complex prompt builders or `useRef` for streaming buffers keep AI UIs maintainable.\n",
    "- **UI composition:** Component libraries (Mantine, Chakra) or design systems can slot into `src/components/` for reusable chat bubbles, token counters, and loading spinners.\n",
    "\n",
    "#### Mini walkthrough: bootstrapping the AI stack\n",
    "1. **Scaffold FastAPI** with `python -m venv .venv && pip install fastapi uvicorn` and create `app/main.py` that instantiates the app, registers routers, and mounts static files if needed.\n",
    "2. **Add routers and schemas** under `app/routers/inference.py` with `Pydantic` models describing your prompt payloads and inference responses.\n",
    "3. **Wire dependencies** like model clients via `Depends`, storing credentials in `.env` and loading them with a settings class.\n",
    "4. **Run `uvicorn app.main:app --reload`** to expose `/docs`, test path operations, and confirm background tasks fire during inference.\n",
    "5. **Create the Vite React frontend** with `npm create vite@latest frontend -- --template react` and install UI dependencies that render form controls and streaming areas.\n",
    "6. **Configure Vite proxy and envs** in `vite.config.js` and `.env.local` so `fetch` helpers in `src/lib/apiClient.js` point to FastAPI during development.\n",
    "7. **Implement React hooks and components** (e.g., `useInference` in `src/features/chat/useInference.js`) that call the backend, manage retries, and render streaming updates.\n",
    "8. **Iterate locally** by running `uvicorn` and `npm run dev` together, validating requests through the autogenerated FastAPI docs and the Vite dev tools before containerization or deployment.\n"
   ]
  },
  {
   "cell_type": "markdown",
   "id": "6af0bd1f",
   "metadata": {},
   "source": [
    "\n",
    "## Prerequisites & install\n",
    "The container workflow depends on these locally installed tools:\n",
    "\n",
    "```bash\n",
    "docker --version\n",
    "docker compose version\n",
    "git --version\n",
    "```\n",
    "\n",
    "After cloning the repository, build and start the services with Docker Compose:\n",
    "\n",
    "```bash\n",
    "cd ai-web\n",
    "docker compose build\n",
    "docker compose up\n",
    "# Backend → http://localhost:8000\n",
    "# Frontend → http://localhost:5173\n",
    "\n",
    "# Shut the stack down when finished exploring:\n",
    "docker compose down\n",
    "```"
   ]
  },
  {
   "cell_type": "markdown",
   "id": "f32bdc03",
   "metadata": {},
   "source": [
    "## Step-by-step tasks\n",
    "Each step configures local source files that the Docker stack will mount so secrets remain outside the built images.\n",
    "\n",
    "### Step 1: Backend folder layout and Dockerfile\n",
    "A backend folder is created with starter FastAPI files and a Dockerfile that installs dependencies inside the image."
   ]
  },
  {
   "cell_type": "markdown",
   "id": "960281ae",
   "metadata": {},
   "source": [
    "### Step 1: Explore the FastAPI service + router scaffold\n",
    "\n",
    "The repository already contains the backend scaffold that students will mirror\n",
    "in class. Walk through the existing files inside `ai-web/backend/app/` so\n",
    "instructors understand how the service and router layers stay separated:\n",
    "\n",
    "1. **`services/echo.py`** – Demonstrates keeping retry simulation logic out of\n",
    "   the HTTP layer. Highlight the `_FLAKY_ATTEMPTS` dictionary and\n",
    "   `get_flaky_echo_payload` helper so learners see where transient errors are\n",
    "   raised.\n",
    "\n",
    "   ```python\n",
    "   from app.services.echo import EchoServiceError, get_flaky_echo_payload\n",
    "   ```\n",
    "\n",
    "   Emphasize that routers import helpers like this instead of owning the state\n",
    "   themselves.\n",
    "2. **`routers/echo.py`** – Contains the thin `/echo` and `/flaky-echo` handlers.\n",
    "   Point out the `EchoIn` Pydantic model and the fact that `flaky_echo` catches\n",
    "   `EchoServiceError` and converts it into an HTTP 503. This mirrors how future\n",
    "   AI features will raise custom exceptions from their services.\n",
    "3. **`main.py`** – Keeps application assembly minimal: load environment\n",
    "   variables, add CORS middleware, and register routers.\n",
    "\n",
    "   ```python\n",
    "   load_dotenv()\n",
    "   app = FastAPI()\n",
    "   app.add_middleware(CORSMiddleware, allow_origins=[\"http://localhost:5173\"], allow_methods=[\"*\"], allow_headers=[\"*\"])\n",
    "   app.include_router(echo_router)\n",
    "   app.include_router(gemini_router)\n",
    "   ```\n",
    "\n",
    "4. **Environment files** – Copy `backend/.env.example` to `backend/.env` so the\n",
    "   compose stack can mount real secrets. Document new keys in the `.env.example`\n",
    "   template first; the Docker volume defined later binds the populated `.env`\n",
    "   into the container at runtime.\n",
    "5. **`requirements.txt`** – Already includes `google-generativeai`, `python-dotenv`,\n",
    "   and other dependencies referenced in later labs. Reinforce that these files\n",
    "   stay in sync with the walkthrough so students are not asked to install packages\n",
    "   manually during lectures.\n",
    "\n",
    "Close the backend tour by opening `docs/feature-workflow.md` with the class; it\n",
    "summarizes the same service → router → feature flow they are about to practice.\n"
   ]
  },
  {
   "cell_type": "markdown",
   "id": "47277266",
   "metadata": {},
   "source": [
    "### Step 2: Understand the React feature-folder pattern\n",
    "\n",
    "Rather than editing a monolithic `App.jsx`, the frontend ships with feature\n",
    "folders under `frontend/src/features/`. Each folder contains a hook for data\n",
    "fetching/state and a component for rendering. Review the echo feature to show\n",
    "how the pattern works:\n",
    "\n",
    "- **Hook (`features/echo/hooks/useEchoForm.js`)** – Calls the backend via\n",
    "  `withRetry`, manages loading/error state, and exposes a simple API to the\n",
    "  component. Draw attention to how the hook builds the `/flaky-echo` URL with a\n",
    "  `failures` query parameter so instructors know where to tweak simulations.\n",
    "- **Component (`features/echo/components/EchoForm.jsx`)** – Receives props from\n",
    "  the hook and stays presentational. Discuss the `prop-types` definitions and\n",
    "  the way the component renders instructional copy alongside the form so\n",
    "  learners see a well-documented example.\n",
    "- **App shell (`src/App.jsx`)** – Imports the hook/component pairs and simply\n",
    "  composes them inside the layout.\n",
    "\n",
    "Encourage instructors to reuse this structure when introducing new labs: start\n",
    "with a hook next to the feature, keep `App.jsx` tiny, and colocate any helper\n",
    "modules inside `src/lib/`.\n"
   ]
  },
  {
   "cell_type": "markdown",
   "id": "425d46e3",
   "metadata": {},
   "source": [
    "### Step 3: Trace the frontend → backend integration points\n",
    "\n",
    "Help students connect the dots between React hooks and FastAPI endpoints by\n",
    "examining the shared helpers:\n",
    "\n",
    "1. **`src/lib/api.js`** – Centralizes the `fetch` wrapper and pulls the API base\n",
    "   URL from `VITE_API_BASE`. Highlight how the error-handling branch reads JSON\n",
    "   `detail` fields so retry failures surface as friendly messages.\n",
    "2. **`src/lib/retry.js`** – The `withRetry` helper now guards the final sleep by\n",
    "   checking `if (attempt < attempts)` before awaiting `setTimeout`. Show the\n",
    "   class how this prevents an unnecessary delay after the last try.\n",
    "3. **`features/gemini/hooks/useLessonOutlineForm.js`** – Mirrors the echo hook\n",
    "   but posts to `/ai/lesson-outline`. Use this as a preview of Lab 03 so the\n",
    "   transition from echo to Gemini feels natural.\n",
    "\n",
    "After walking through the code, open the running dev servers and demonstrate how\n",
    "submitting the echo form triggers the `/flaky-echo` endpoint. Then flip to the\n",
    "Gemini form and highlight the shared loading/error patterns.\n"
   ]
  },
  {
   "cell_type": "markdown",
   "id": "755079dc",
   "metadata": {},
   "source": [
    "### Step 4: Review Docker Compose orchestration\n",
    "\n",
    "A top-level `docker-compose.yml` starts the backend and frontend together. The\n",
    "file in the repository already matches what students need; use it as a teaching\n",
    "artifact instead of rewriting it live.\n"
   ]
  },
  {
   "cell_type": "markdown",
   "id": "6a3b3e9a",
   "metadata": {},
   "source": [
    "### Step 5: Map Compose services to the codebase\n",
    "\n",
    "Walk line-by-line through `ai-web/docker-compose.yml` so instructors know how\n",
    "local edits reach the containers.\n",
    "\n",
    "```yaml\n",
    "version: \"3.9\"\n",
    "\n",
    "services:\n",
    "  backend:\n",
    "    build: ./backend\n",
    "    ports:\n",
    "      - \"8000:8000\"\n",
    "    volumes:\n",
    "      - ./backend/app:/app/app\n",
    "      - ./backend/.env:/app/.env:ro\n",
    "\n",
    "  frontend:\n",
    "    build: ./frontend\n",
    "    ports:\n",
    "      - \"5173:5173\"\n",
    "    environment:\n",
    "      - VITE_API_BASE=http://localhost:8000\n",
    "    volumes:\n",
    "      - ./frontend/src:/app/src\n",
    "      - ./frontend/vite.config.js:/app/vite.config.js\n",
    "      - ./frontend/index.html:/app/index.html\n",
    "      - ./frontend/package.json:/app/package.json\n",
    "```\n",
    "\n",
    "Call out that mounting `backend/.env` lets FastAPI read secrets without baking\n",
    "them into the image, and that the frontend mounts `src/` so hot module reloads\n",
    "work during demos.\n"
   ]
  },
  {
   "cell_type": "markdown",
   "id": "34571cdc",
   "metadata": {},
   "source": [
    "### Step 4: Git initialization\n",
    "Git is initialized locally so changes can be tracked."
   ]
  },
  {
   "cell_type": "markdown",
   "id": "a1022dda",
   "metadata": {},
   "source": [
    "### FastAPI ↔ Vite AI workflow checklist\n",
    "\n",
    "Use this quick-reference list alongside `docs/feature-workflow.md` whenever you\n",
    "introduce a new full-stack capability:\n",
    "\n",
    "1. Start with a service module under `app/services/` that encapsulates business\n",
    "   logic and external SDK calls. Document custom exceptions so routers can\n",
    "   translate them into HTTP responses.\n",
    "2. Add a router in `app/routers/` with request/response models, then register it\n",
    "   in `app/main.py` via `app.include_router(...)`.\n",
    "3. Create a hook + component pair under `frontend/src/features/` and wire it\n",
    "   into `src/App.jsx`. Store shared utilities in `src/lib/`.\n",
    "4. Capture any new configuration in `backend/.env.example` and\n",
    "   `frontend/.env.example`, then update real `.env` files before running Docker\n",
    "   Compose.\n",
    "5. Test the API with `curl` and the UI with `npm run dev` to confirm both ends\n",
    "   handle success, validation errors, and simulated outages (such as hitting\n",
    "   `/flaky-echo?failures=3`).\n"
   ]
  },
  {
   "cell_type": "markdown",
   "id": "71c33037",
   "metadata": {},
   "source": [
    "```bash\n",
    "cd ai-web\n",
    "git init\n",
    "git add .\n",
    "git commit -m \"Lab 1 scaffold\"\n",
    "```"
   ]
  },
  {
   "cell_type": "markdown",
   "id": "962acb13",
   "metadata": {},
   "source": [
    "## Validation / acceptance checks\n",
    "```bash\n",
    "# locally\n",
    "docker compose up -d\n",
    "curl http://localhost:8000/health\n",
    "curl -X POST http://localhost:8000/echo -H 'Content-Type: application/json' -d '{\"msg\":\"hello\"}'\n",
    "docker compose down\n",
    "```\n",
    "- HTTP 200 responses include status \"ok\" and the echoed payload while the stack runs in Docker.\n",
    "- React development mode shows the described UI state without console errors."
   ]
  },
  {
   "cell_type": "markdown",
   "id": "4ae78b0b",
   "metadata": {},
   "source": [
    "## Homework / extensions\n",
    "- A README entry is expanded to document backend and frontend start commands.\n",
    "- A GitHub repository is connected for remote backups."
   ]
  }
 ],
 "metadata": {
  "language_info": {
   "name": "python"
  }
 },
 "nbformat": 4,
 "nbformat_minor": 5
}
