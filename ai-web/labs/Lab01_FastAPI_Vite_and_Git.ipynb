{
 "cells": [
  {
   "cell_type": "markdown",
   "id": "05daf237",
   "metadata": {},
   "source": [
    "# Lab 01 · FastAPI, Vite, and Git\n",
    "\n",
    "*This lab notebook provides guided steps. All commands are intended for local execution.*"
   ]
  },
  {
   "cell_type": "markdown",
   "id": "94c27958",
   "metadata": {},
   "source": [
    "## Objectives\n",
    "- A FastAPI backend is scaffolded with health and echo routes.\n",
    "- A Vite React frontend is outlined with modern tooling defaults.\n",
    "- A Git repository is initialized with environment templates."
   ]
  },
  {
   "cell_type": "markdown",
   "id": "dc6950ab",
   "metadata": {},
   "source": [
    "## What will be learned\n",
    "- The structure of a basic FastAPI service is reviewed.\n",
    "- Development-time CORS settings are configured.\n",
    "- Vite-powered React scaffolding steps are rehearsed.\n",
    "- Git initialization practices are reinforced."
   ]
  },
  {
   "cell_type": "markdown",
   "id": "423057b3",
   "metadata": {},
   "source": [
    "## Prerequisites & install\n",
    "The following tools are needed for this lab. Install them locally and keep all project-specific environments inside this repository so nothing leaks into the rest of your system.\n",
    "\n",
    "| Tool | Why we use it in this lab | Download or docs |\n",
    "| --- | --- | --- |\n",
    "| Python 3.10+ | Runs the FastAPI backend and virtual environment tooling. | [python.org/downloads](https://www.python.org/downloads/) |\n",
    "| Node.js & npm | Provides the JavaScript runtime and package manager required by Create React App. | [nodejs.org](https://nodejs.org/) |\n",
    "| Git | Tracks changes and enables pushing your work to GitHub. | [git-scm.com/downloads](https://git-scm.com/downloads) |\n",
    "| Create React App (npx) | Bootstraps the React frontend scaffold used in the lab. | [create-react-app.dev](https://create-react-app.dev/docs/getting-started/) |\n",
    "| FastAPI | Python web framework for building the backend API. | [fastapi.tiangolo.com](https://fastapi.tiangolo.com/) |\n",
    "| Uvicorn | ASGI server that runs the FastAPI app locally. | [www.uvicorn.org](https://www.uvicorn.org/) |\n",
    "| Pydantic | Validates request/response models in the FastAPI backend. | [docs.pydantic.dev](https://docs.pydantic.dev/) |\n",
    "| python-dotenv | Loads environment variables from a `.env` file for local secrets management. | [pypi.org/project/python-dotenv](https://pypi.org/project/python-dotenv/) |\n",
    "| google-generativeai | Client library for Google Generative AI integrations explored later in the course. | [pypi.org/project/google-generativeai](https://pypi.org/project/google-generativeai/) |\n",
    "| faiss-cpu | Provides vector similarity search utilities used by the AI features. | [pypi.org/project/faiss-cpu](https://pypi.org/project/faiss-cpu/) |\n",
    "| numpy | Supports numerical operations required by FAISS and data processing. | [numpy.org](https://numpy.org/install/) |\n",
    "\n",
    "Before installing dependencies, change into `ai-web/backend`, create (if needed) and activate the `.venv` virtual environment there, and scaffold the React app inside `ai-web/frontend` so every dependency stays scoped to this project folder.\n",
    "\n",
    "```bash\n",
    "python --version\n",
    "node --version\n",
    "npm --version\n",
    "git --version\n",
    "\n",
    "# Backend environment preparation (local execution only)\n",
    "cd ai-web/backend\n",
    "python -m venv .venv\n",
    "# Windows: .venv\\Scripts\\activate\n",
    "# Unix/macOS:\n",
    ". .venv/bin/activate\n",
    "pip install fastapi uvicorn[standard] pydantic python-dotenv google-generativeai faiss-cpu numpy\n",
    "\n",
    "# Frontend creation (Create React App; no Vite)\n",
    "cd ../../\n",
    "npx create-react-app frontend\n",
    "cd frontend\n",
    "npm install\n",
    "```"
   ]
  },
  {
   "cell_type": "markdown",
   "id": "dd3bd902",
   "metadata": {},
   "source": [
    "## Step-by-step tasks\n",
    "Each step is executed locally so backend keys remain protected.\n",
    "\n",
    "### Step 1: Backend folder layout\n",
    "A backend folder is created and populated with required files."
   ]
  },
  {
   "cell_type": "code",
   "execution_count": null,
   "id": "8d8d7f59",
   "metadata": {},
   "outputs": [],
   "source": [
    "from pathlib import Path\n",
    "base = Path(\"ai-web/backend\")\n",
    "(base / \"app\").mkdir(parents=True, exist_ok=True)\n",
    "(base / \"app\" / \"__init__.py\").write_text(\"\n",
    "\")\n",
    "(base / \".env.example\").write_text('# Environment variables (never commit real keys)\n",
    "GEMINI_API_KEY=\n",
    "')\n",
    "(base / \"requirements.txt\").write_text('''fastapi\n",
    "uvicorn[standard]\n",
    "pydantic\n",
    "python-dotenv\n",
    "google-genai\n",
    "faiss-cpu\n",
    "numpy\n",
    "''')\n",
    "(base / \"app\" / \"main.py\").write_text('''from fastapi import FastAPI\n",
    "from fastapi.middleware.cors import CORSMiddleware\n",
    "from pydantic import BaseModel\n",
    "\n",
    "app = FastAPI()\n",
    "app.add_middleware(\n",
    "    CORSMiddleware,\n",
    "    allow_origins=[\"http://localhost:5173\"],\n",
    "    allow_methods=[\"*\"],\n",
    "    allow_headers=[\"*\"],\n",
    ")\n",
    "\n",
    "\n",
    "class EchoIn(BaseModel):\n",
    "    msg: str\n",
    "\n",
    "\n",
    "@app.get(\"/health\")\n",
    "def health():\n",
    "    return {\"status\": \"ok\"}\n",
    "\n",
    "\n",
    "@app.post(\"/echo\")\n",
    "def echo(payload: EchoIn):\n",
    "    return {\"msg\": payload.msg}\n",
    "''')\n",
    "print(\"Backend scaffold was written under ai-web/backend.\")"
   ]
  },
  {
   "cell_type": "markdown",
   "id": "96e9acfb",
   "metadata": {},
   "source": [
    "### Step 2: Frontend placeholders\n",
    "Frontend placeholders are positioned so Vite React components (`src/App.jsx`, `src/main.jsx`) can be customized while the generated `vite.config.js` continues to manage dev server defaults."
   ]
  },
  {
   "cell_type": "code",
   "execution_count": null,
   "id": "8c7a6f30",
   "metadata": {},
   "outputs": [],
   "source": [
    "from pathlib import Path\n",
    "src = Path(\"ai-web/frontend/src\")\n",
    "(src / \"lib\").mkdir(parents=True, exist_ok=True)\n",
    "\n",
    "(src / \"lib\" / \"api.js\").write_text('''const BASE = import.meta.env.VITE_API_BASE || \"http://localhost:8000\";\n",
    "\n",
    "export async function post(path, body) {\n",
    "  const res = await fetch(`${BASE}${path}`, {\n",
    "    method: 'POST',\n",
    "    headers: { 'Content-Type': 'application/json' },\n",
    "    body: JSON.stringify(body)\n",
    "  });\n",
    "  if (!res.ok) {\n",
    "    throw new Error(`HTTP ${res.status}`);\n",
    "  }\n",
    "  return res.json();\n",
    "}\n",
    "''')\n",
    "(src / \"App.jsx\").write_text('''import { useState } from 'react';\n",
    "import { post } from './lib/api';\n",
    "\n",
    "function App() {\n",
    "  const [msg, setMsg] = useState('hello');\n",
    "  const [response, setResponse] = useState('');\n",
    "  const [loading, setLoading] = useState(false);\n",
    "  const [error, setError] = useState('');\n",
    "\n",
    "  async function handleSend() {\n",
    "    setLoading(true);\n",
    "    setError('');\n",
    "    try {\n",
    "      const json = await post('/echo', { msg });\n",
    "      setResponse(json.msg);\n",
    "    } catch (err) {\n",
    "      setError(String(err));\n",
    "    } finally {\n",
    "      setLoading(false);\n",
    "    }\n",
    "  }\n",
    "\n",
    "  return (\n",
    "    <main style={{ padding: 24 }}>\n",
    "      <h1>Lab 1 — Echo demo</h1>\n",
    "      <input value={msg} onChange={(event) => setMsg(event.target.value)} />\n",
    "      <button onClick={handleSend} disabled={loading}>Send</button>\n",
    "      {loading && <p>Loading…</p>}\n",
    "      {error && <p style={{ color: 'red' }}>{error}</p>}\n",
    "      <pre>{response}</pre>\n",
    "    </main>\n",
    "  );\n",
    "}\n",
    "\n",
    "export default App;\n",
    "''')\n",
    "(src / \"main.jsx\").write_text('''import React from 'react';\n",
    "import ReactDOM from 'react-dom/client';\n",
    "import App from './App.jsx';\n",
    "\n",
    "ReactDOM.createRoot(document.getElementById('root')).render(\n",
    "  <React.StrictMode>\n",
    "    <App />\n",
    "  </React.StrictMode>,\n",
    ");\n",
    "''')\n",
    "print(\"Frontend placeholders were written under ai-web/frontend/src.\")"
   ]
  },
  {
   "cell_type": "markdown",
   "id": "5f715c46",
   "metadata": {},
   "source": [
    "### Step 3: Git initialization\n",
    "Git is initialized locally so changes can be tracked."
   ]
  },
  {
   "cell_type": "markdown",
   "id": "951fc337",
   "metadata": {},
   "source": [
    "```bash\n",
    "cd ai-web\n",
    "git init\n",
    "git add .\n",
    "git commit -m \"Lab 1 scaffold\"\n",
    "```"
   ]
  },
  {
   "cell_type": "markdown",
   "id": "d5e0b4cb",
   "metadata": {},
   "source": [
    "## Validation / acceptance checks\n",
    "```bash\n",
    "# locally\n",
    "curl http://localhost:8000/health\n",
    "curl -X POST http://localhost:8000/echo -H 'Content-Type: application/json' -d '{\"msg\":\"hello\"}'\n",
    "```\n",
    "- HTTP 200 responses include status \"ok\" and the echoed payload.\n",
    "- React development mode shows the described UI state without console errors."
   ]
  },
  {
   "cell_type": "markdown",
   "id": "197c568a",
   "metadata": {},
   "source": [
    "## Homework / extensions\n",
    "- A README entry is expanded to document backend and frontend start commands.\n",
    "- A GitHub repository is connected for remote backups."
   ]
  }
 ],
 "metadata": {
  "language_info": {
   "name": "python"
  }
 },
 "nbformat": 4,
 "nbformat_minor": 5
}
