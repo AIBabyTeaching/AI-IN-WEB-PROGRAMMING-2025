{
 "cells": [
  {
   "cell_type": "markdown",
   "id": "6722c9de",
   "metadata": {},
   "source": [
    "# Lab 08 · TensorFlow.js Browser Inference\n",
    "\n",
    "*This lab notebook provides guided steps. All commands are intended for local execution.*"
   ]
  },
  {
   "cell_type": "markdown",
   "id": "0148de7a",
   "metadata": {},
   "source": [
    "## Objectives\n",
    "- TensorFlow.js is loaded in the browser for local inference.\n",
    "- A webcam or file input is provided without backend calls.\n",
    "- Prediction results are rendered with lightweight styling."
   ]
  },
  {
   "cell_type": "markdown",
   "id": "179764da",
   "metadata": {},
   "source": [
    "## What will be learned\n",
    "- Client-side model loading is rehearsed.\n",
    "- User media APIs are reviewed for inference demos.\n",
    "- Result presentation is refined for clarity."
   ]
  },
  {
   "cell_type": "markdown",
   "id": "f9f936c1",
   "metadata": {},
   "source": [
    "## Prerequisites & install\n",
    "The following commands are intended for local execution.\n",
    "\n",
    "```bash\n",
    "cd ai-web/frontend\n",
    "npm install @tensorflow/tfjs @tensorflow-models/coco-ssd\n",
    "```"
   ]
  },
  {
   "cell_type": "markdown",
   "id": "123c3413",
   "metadata": {},
   "source": [
    "## Step-by-step tasks\n",
    "### Step 1: Component shell\n",
    "A React component is outlined for TensorFlow.js usage."
   ]
  },
  {
   "cell_type": "code",
   "execution_count": null,
   "id": "ad2bb2e4",
   "metadata": {},
   "outputs": [],
   "source": [
    "from pathlib import Path\n",
    "app_js = Path(\"ai-web/frontend/src/App.js\")\n",
    "app_js.write_text('''import React, { useEffect, useRef, useState } from 'react';\n",
    "import * as cocoSsd from '@tensorflow-models/coco-ssd';\n",
    "import '@tensorflow/tfjs';\n",
    "\n",
    "function App() {\n",
    "  const videoRef = useRef(null);\n",
    "  const canvasRef = useRef(null);\n",
    "  const [status, setStatus] = useState('Model is loading…');\n",
    "  const [model, setModel] = useState(null);\n",
    "\n",
    "  useEffect(() => {\n",
    "    async function prepare() {\n",
    "      try {\n",
    "        const loaded = await cocoSsd.load();\n",
    "        setModel(loaded);\n",
    "        setStatus('Model is ready.');\n",
    "        const stream = await navigator.mediaDevices.getUserMedia({ video: true });\n",
    "        if (videoRef.current) {\n",
    "          videoRef.current.srcObject = stream;\n",
    "        }\n",
    "      } catch (error) {\n",
    "        setStatus('Camera or model initialization failed.');\n",
    "      }\n",
    "    }\n",
    "    prepare();\n",
    "  }, []);\n",
    "\n",
    "  async function handleDetect() {\n",
    "    if (!model || !videoRef.current) {\n",
    "      setStatus('Detection is unavailable at this time.');\n",
    "      return;\n",
    "    }\n",
    "    const predictions = await model.detect(videoRef.current);\n",
    "    const canvas = canvasRef.current;\n",
    "    const context = canvas.getContext('2d');\n",
    "    context.clearRect(0, 0, canvas.width, canvas.height);\n",
    "    context.font = '16px sans-serif';\n",
    "    predictions.forEach((prediction, index) => {\n",
    "      context.fillText(`${index + 1}. ${prediction.class} (${prediction.score.toFixed(2)})`, 10, 20 + index * 18);\n",
    "    });\n",
    "    setStatus(`${predictions.length} objects were detected.`);\n",
    "  }\n",
    "\n",
    "  return (\n",
    "    <main style={{ padding: 24 }}>\n",
    "      <h1>Lab 8 — TensorFlow.js Inference</h1>\n",
    "      <p>{status}</p>\n",
    "      <video ref={videoRef} width={320} height={240} autoPlay playsInline muted />\n",
    "      <canvas ref={canvasRef} width={320} height={240} style={{ border: '1px solid #ccc' }} />\n",
    "      <button type=\"button\" onClick={handleDetect}>Run detection</button>\n",
    "    </main>\n",
    "  );\n",
    "}\n",
    "\n",
    "export default App;\n",
    "''')\n",
    "print(\"TensorFlow.js demo was written.\")"
   ]
  },
  {
   "cell_type": "markdown",
   "id": "3a60d5bf",
   "metadata": {},
   "source": [
    "## Validation / acceptance checks\n",
    "```bash\n",
    "# locally\n",
    "curl http://localhost:8000/health\n",
    "```\n",
    "- The backend health check remains accessible while the frontend serves the TensorFlow.js UI.\n",
    "- React development mode shows the described UI state without console errors."
   ]
  },
  {
   "cell_type": "markdown",
   "id": "6a46dbef",
   "metadata": {},
   "source": [
    "## Homework / extensions\n",
    "- Image upload support is investigated for offline detection.\n",
    "- Result overlays are explored to highlight detections on the video feed."
   ]
  }
 ],
 "metadata": {},
 "nbformat": 4,
 "nbformat_minor": 5
}
