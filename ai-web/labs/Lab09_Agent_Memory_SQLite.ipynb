{
 "cells": [
  {
   "cell_type": "markdown",
   "id": "836ea0d7",
   "metadata": {},
   "source": [
    "# Lab 09 · Agent Memory with SQLite\n",
    "\n",
    "*This lab notebook provides guided steps. All commands are intended for local execution.*"
   ]
  },
  {
   "cell_type": "markdown",
   "id": "be9b1c5b",
   "metadata": {},
   "source": [
    "## Objectives\n",
    "- A SQLite schema is designed for sessions, messages, and memories.\n",
    "- A memory summarization plan is drafted for periodic runs.\n",
    "- Data access helpers are introduced."
   ]
  },
  {
   "cell_type": "markdown",
   "id": "cbb54e43",
   "metadata": {},
   "source": [
    "## What will be learned\n",
    "- SQLite migrations are sketched for conversational data.\n",
    "- Summarization planning is discussed for memory consolidation.\n",
    "- Repository patterns for data access are reinforced."
   ]
  },
  {
   "cell_type": "markdown",
   "id": "86a6e09e",
   "metadata": {},
   "source": [
    "## Prerequisites & install\n",
    "The following commands are intended for local execution.\n",
    "\n",
    "```bash\n",
    "cd ai-web/backend\n",
    ". .venv/bin/activate\n",
    "pip install sqlite-utils\n",
    "```"
   ]
  },
  {
   "cell_type": "markdown",
   "id": "72eae7db",
   "metadata": {},
   "source": [
    "## Step-by-step tasks\n",
    "### Step 1: Schema file\n",
    "A schema file is provided to capture sessions, messages, and memories."
   ]
  },
  {
   "cell_type": "code",
   "execution_count": null,
   "id": "02d94c8e",
   "metadata": {},
   "outputs": [],
   "source": [
    "from pathlib import Path\n",
    "schema_path = Path(\"ai-web/backend/app/schema.sql\")\n",
    "schema_path.write_text('''CREATE TABLE IF NOT EXISTS sessions (\n",
    "  id TEXT PRIMARY KEY,\n",
    "  created_at TIMESTAMP DEFAULT CURRENT_TIMESTAMP\n",
    ");\n",
    "\n",
    "CREATE TABLE IF NOT EXISTS messages (\n",
    "  id INTEGER PRIMARY KEY AUTOINCREMENT,\n",
    "  session_id TEXT REFERENCES sessions(id),\n",
    "  role TEXT,\n",
    "  content TEXT,\n",
    "  created_at TIMESTAMP DEFAULT CURRENT_TIMESTAMP\n",
    ");\n",
    "\n",
    "CREATE TABLE IF NOT EXISTS memories (\n",
    "  id INTEGER PRIMARY KEY AUTOINCREMENT,\n",
    "  session_id TEXT REFERENCES sessions(id),\n",
    "  summary TEXT,\n",
    "  created_at TIMESTAMP DEFAULT CURRENT_TIMESTAMP,\n",
    "  next_review TIMESTAMP\n",
    ");\n",
    "''')\n",
    "print(\"Schema file was produced.\")"
   ]
  },
  {
   "cell_type": "markdown",
   "id": "a052438c",
   "metadata": {},
   "source": [
    "### Step 2: Repository helper\n",
    "A helper module is included for interacting with SQLite."
   ]
  },
  {
   "cell_type": "code",
   "execution_count": null,
   "id": "0933406b",
   "metadata": {},
   "outputs": [],
   "source": [
    "from pathlib import Path\n",
    "repo_path = Path(\"ai-web/backend/app/repository.py\")\n",
    "repo_path.write_text('''import sqlite3\n",
    "from pathlib import Path\n",
    "from typing import Iterable\n",
    "\n",
    "DB_PATH = Path(__file__).resolve().parent / \"data.sqlite3\"\n",
    "\n",
    "\n",
    "def get_connection():\n",
    "    conn = sqlite3.connect(DB_PATH)\n",
    "    conn.row_factory = sqlite3.Row\n",
    "    return conn\n",
    "\n",
    "\n",
    "def apply_schema(schema_sql: str):\n",
    "    conn = get_connection()\n",
    "    conn.executescript(schema_sql)\n",
    "    conn.commit()\n",
    "    conn.close()\n",
    "\n",
    "\n",
    "def insert_message(session_id: str, role: str, content: str):\n",
    "    conn = get_connection()\n",
    "    conn.execute(\n",
    "        \"INSERT INTO messages (session_id, role, content) VALUES (?, ?, ?)\",\n",
    "        (session_id, role, content),\n",
    "    )\n",
    "    conn.commit()\n",
    "    conn.close()\n",
    "\n",
    "\n",
    "def list_recent_messages(session_id: str, limit: int = 10) -> Iterable[sqlite3.Row]:\n",
    "    conn = get_connection()\n",
    "    rows = conn.execute(\n",
    "        \"SELECT role, content FROM messages WHERE session_id = ? ORDER BY created_at DESC LIMIT ?\",\n",
    "        (session_id, limit),\n",
    "    ).fetchall()\n",
    "    conn.close()\n",
    "    return rows\n",
    "''')\n",
    "print(\"Repository helper was created.\")"
   ]
  },
  {
   "cell_type": "markdown",
   "id": "dc89229c",
   "metadata": {},
   "source": [
    "### Step 3: Summarization plan\n",
    "A plan is described to summarize conversations periodically."
   ]
  },
  {
   "cell_type": "markdown",
   "id": "341c6589",
   "metadata": {},
   "source": [
    "A periodic job is proposed in which conversations are summarized into the memories table. The job is scheduled after a session surpasses a message threshold. A placeholder function is positioned so later labs can hook in summarization calls."
   ]
  },
  {
   "cell_type": "code",
   "execution_count": null,
   "id": "9216ac24",
   "metadata": {},
   "outputs": [],
   "source": [
    "from pathlib import Path\n",
    "plan_path = Path(\"ai-web/backend/app/memory_plan.py\")\n",
    "plan_path.write_text('''from datetime import datetime, timedelta\n",
    "\n",
    "\n",
    "def plan_memory_summary(session_id: str) -> dict:\n",
    "    return {\n",
    "        \"session_id\": session_id,\n",
    "        \"next_review\": (datetime.utcnow() + timedelta(hours=6)).isoformat(),\n",
    "        \"status\": \"A summarization run has been scheduled.\",\n",
    "    }\n",
    "''')\n",
    "print(\"Memory plan placeholder was drafted.\")"
   ]
  },
  {
   "cell_type": "markdown",
   "id": "b7d4f3cb",
   "metadata": {},
   "source": [
    "## Validation / acceptance checks\n",
    "```bash\n",
    "# locally\n",
    "curl http://localhost:8000/health\n",
    "```\n",
    "- The backend health endpoint remains operational after SQLite helpers are introduced.\n",
    "- React development mode shows the described UI state without console errors."
   ]
  },
  {
   "cell_type": "markdown",
   "id": "08b34f04",
   "metadata": {},
   "source": [
    "## Homework / extensions\n",
    "- A cron-style schedule is documented for invoking the summarization plan.\n",
    "- Additional indexing strategies are explored for the messages table."
   ]
  }
 ],
 "metadata": {},
 "nbformat": 4,
 "nbformat_minor": 5
}
