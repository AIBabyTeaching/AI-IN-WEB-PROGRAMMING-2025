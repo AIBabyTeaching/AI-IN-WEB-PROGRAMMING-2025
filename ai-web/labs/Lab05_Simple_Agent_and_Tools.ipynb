{
 "cells": [
  {
   "cell_type": "markdown",
   "id": "5513ce4d",
   "metadata": {},
   "source": [
    "# Lab 05 · Simple Agent and Tools\n",
    "\n",
    "*This lab notebook provides guided steps. All commands are intended for local execution.*"
   ]
  },
  {
   "cell_type": "markdown",
   "id": "c3ea526d",
   "metadata": {},
   "source": [
    "## Objectives\n",
    "- A minimal agent loop is expressed with limited iterations.\n",
    "- Tool abstractions for calculator, db_query, and search_faq are prepared.\n",
    "- Tool call timelines are logged for review."
   ]
  },
  {
   "cell_type": "markdown",
   "id": "616b63cd",
   "metadata": {},
   "source": [
    "## What will be learned\n",
    "- Agent planning loops are reasoned about with deterministic stops.\n",
    "- Tool registration strategies are documented.\n",
    "- Logging of tool usage is practiced for observability."
   ]
  },
  {
   "cell_type": "markdown",
   "id": "00439ff0",
   "metadata": {},
   "source": [
    "## Prerequisites & install\n",
    "The following commands are intended for local execution.\n",
    "\n",
    "```bash\n",
    "cd ai-web/backend\n",
    ". .venv/bin/activate\n",
    "pip install numpy\n",
    "```"
   ]
  },
  {
   "cell_type": "markdown",
   "id": "88e2a4c7",
   "metadata": {},
   "source": [
    "## Step-by-step tasks\n",
    "### Step 1: Tool definitions\n",
    "Lightweight tool functions are placed in a tools module."
   ]
  },
  {
   "cell_type": "code",
   "execution_count": null,
   "id": "2bacb20e",
   "metadata": {},
   "outputs": [],
   "source": [
    "from pathlib import Path\n",
    "module = Path(\"ai-web/backend/app/tools.py\")\n",
    "module.write_text('''from typing import Any, Dict, List\n",
    "\n",
    "\n",
    "TOOL_LOG: List[Dict[str, Any]] = []\n",
    "\n",
    "\n",
    "def calculator(expression: str) -> str:\n",
    "    TOOL_LOG.append({\"tool\": \"calculator\", \"input\": expression})\n",
    "    try:\n",
    "        value = eval(expression, {\"__builtins__\": {}}, {})\n",
    "    except Exception:\n",
    "        return \"A calculation error was observed.\"\n",
    "    return str(value)\n",
    "\n",
    "\n",
    "def db_query(sql: str) -> str:\n",
    "    TOOL_LOG.append({\"tool\": \"db_query\", \"input\": sql})\n",
    "    return \"A mock database response was produced.\"\n",
    "\n",
    "\n",
    "def search_faq(question: str) -> str:\n",
    "    TOOL_LOG.append({\"tool\": \"search_faq\", \"input\": question})\n",
    "    return \"A documented FAQ entry was suggested.\"\n",
    "''')\n",
    "print(\"Tools module was created.\")"
   ]
  },
  {
   "cell_type": "markdown",
   "id": "49de0212",
   "metadata": {},
   "source": [
    "### Step 2: Agent loop outline\n",
    "A simple agent loop is introduced with a two-iteration limit."
   ]
  },
  {
   "cell_type": "code",
   "execution_count": null,
   "id": "8dd00761",
   "metadata": {},
   "outputs": [],
   "source": [
    "from pathlib import Path\n",
    "agent_path = Path(\"ai-web/backend/app/agent.py\")\n",
    "agent_path.write_text('''from typing import Dict, List\n",
    "\n",
    "from .tools import TOOL_LOG, calculator, db_query, search_faq\n",
    "\n",
    "\n",
    "def run_agent(task: str) -> Dict[str, List[str]]:\n",
    "    TOOL_LOG.clear()\n",
    "    thoughts = [f\"The task was received: {task}\"]\n",
    "    for step in range(2):\n",
    "        if \"calculate\" in task and step == 0:\n",
    "            result = calculator(\"1 + 1\")\n",
    "            thoughts.append(f\"Calculator returned {result}.\")\n",
    "        elif \"database\" in task and step == 0:\n",
    "            result = db_query(\"SELECT * FROM items LIMIT 1\")\n",
    "            thoughts.append(result)\n",
    "        else:\n",
    "            result = search_faq(task)\n",
    "            thoughts.append(result)\n",
    "    timeline = [f\"{entry['tool']} ← {entry['input']}\" for entry in TOOL_LOG]\n",
    "    return {\"thoughts\": thoughts, \"timeline\": timeline}\n",
    "''')\n",
    "print(\"Agent loop was documented.\")"
   ]
  },
  {
   "cell_type": "markdown",
   "id": "396b2fc4",
   "metadata": {},
   "source": [
    "### Step 3: Endpoint exposure\n",
    "The agent run is exposed through FastAPI for easy testing."
   ]
  },
  {
   "cell_type": "code",
   "execution_count": null,
   "id": "8cf9bb99",
   "metadata": {},
   "outputs": [],
   "source": [
    "from pathlib import Path\n",
    "main_path = Path(\"ai-web/backend/app/main.py\")\n",
    "text = main_path.read_text()\n",
    "if \"agent_endpoint\" not in text:\n",
    "    addition = '''\n",
    "from .agent import run_agent\n",
    "\n",
    "\n",
    "@app.post(\"/api/agent\")\n",
    "def agent_endpoint(payload: dict):\n",
    "    task = payload.get(\"task\", \"A task was not specified.\")\n",
    "    result = run_agent(task)\n",
    "    return result\n",
    "'''\n",
    "    main_path.write_text(text.rstrip() + \"\n",
    "\" + addition)\n",
    "    print(\"Agent endpoint was appended.\")\n",
    "else:\n",
    "    print(\"Agent endpoint already present.\")"
   ]
  },
  {
   "cell_type": "markdown",
   "id": "41e43b76",
   "metadata": {},
   "source": [
    "## Validation / acceptance checks\n",
    "```bash\n",
    "# locally\n",
    "curl -X POST http://localhost:8000/api/agent -H 'Content-Type: application/json' -d '{\"task\":\"calculate 1+1\"}'\n",
    "```\n",
    "- The response includes thoughts and a timeline reflecting tool usage.\n",
    "- React development mode shows the described UI state without console errors."
   ]
  },
  {
   "cell_type": "markdown",
   "id": "ff835e52",
   "metadata": {},
   "source": [
    "## Homework / extensions\n",
    "- Tool error handling pathways are drafted for robustness.\n",
    "- Agent iteration limits are experimented with for longer plans."
   ]
  }
 ],
 "metadata": {},
 "nbformat": 4,
 "nbformat_minor": 5
}
