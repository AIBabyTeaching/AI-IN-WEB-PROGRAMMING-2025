{
 "cells": [
  {
   "cell_type": "markdown",
   "id": "008d9f0e",
   "metadata": {},
   "source": [
    "# Lab 12 · Deployment and Docker\n",
    "\n",
    "*This lab notebook provides guided steps. All commands are intended for local execution.*"
   ]
  },
  {
   "cell_type": "markdown",
   "id": "9a8754ac",
   "metadata": {},
   "source": [
    "## Objectives\n",
    "- A backend Dockerfile is drafted with environment configuration guidance.\n",
    "- A docker-compose sketch is recorded for local orchestration.\n",
    "- Frontend build and deployment checklists are enumerated."
   ]
  },
  {
   "cell_type": "markdown",
   "id": "f80e0866",
   "metadata": {},
   "source": [
    "## What will be learned\n",
    "- Containerization patterns are reviewed for FastAPI and React.\n",
    "- Environment variable documentation is reinforced for deployment.\n",
    "- Health check considerations are summarized for operations."
   ]
  },
  {
   "cell_type": "markdown",
   "id": "d35523dc",
   "metadata": {},
   "source": [
    "## Prerequisites & install\n",
    "The following commands are intended for local execution.\n",
    "\n",
    "```bash\n",
    "# Docker installation is confirmed locally\n",
    "docker --version\n",
    "docker compose version\n",
    "```"
   ]
  },
  {
   "cell_type": "markdown",
   "id": "e64d3630",
   "metadata": {},
   "source": [
    "## Step-by-step tasks\n",
    "### Step 1: Backend Dockerfile\n",
    "A Dockerfile is created for the FastAPI backend."
   ]
  },
  {
   "cell_type": "code",
   "execution_count": null,
   "id": "d707aff0",
   "metadata": {},
   "outputs": [],
   "source": [
    "from pathlib import Path\n",
    "dockerfile_path = Path(\"ai-web/backend/Dockerfile\")\n",
    "dockerfile_path.write_text('''FROM python:3.11-slim\n",
    "ENV PYTHONDONTWRITEBYTECODE=1\n",
    "ENV PYTHONUNBUFFERED=1\n",
    "WORKDIR /app\n",
    "COPY requirements.txt ./\n",
    "RUN pip install --no-cache-dir -r requirements.txt\n",
    "COPY . ./\n",
    "CMD [\"uvicorn\", \"app.main:app\", \"--host\", \"0.0.0.0\", \"--port\", \"8000\"]\n",
    "''')\n",
    "print(\"Backend Dockerfile was created.\")"
   ]
  },
  {
   "cell_type": "markdown",
   "id": "b959578d",
   "metadata": {},
   "source": [
    "### Step 2: Compose sketch\n",
    "A docker-compose.yml sketch references backend and frontend builds."
   ]
  },
  {
   "cell_type": "code",
   "execution_count": null,
   "id": "11282619",
   "metadata": {},
   "outputs": [],
   "source": [
    "from pathlib import Path\n",
    "compose_path = Path(\"ai-web/docker-compose.yml\")\n",
    "compose_path.write_text('''version: '3.9'\n",
    "services:\n",
    "  backend:\n",
    "    build: ./backend\n",
    "    environment:\n",
    "      - GEMINI_API_KEY=${GEMINI_API_KEY}\n",
    "    ports:\n",
    "      - \"8000:8000\"\n",
    "  frontend:\n",
    "    build: ./frontend\n",
    "    ports:\n",
    "      - \"5173:5173\"\n",
    "    environment:\n",
    "      - VITE_API_BASE=http://localhost:8000\n",
    "''')\n",
    "print(\"Compose sketch was drafted.\")"
   ]
  },
  {
   "cell_type": "markdown",
   "id": "5f1dc53f",
   "metadata": {},
   "source": [
    "### Step 3: Deployment checklist\n",
    "Deployment steps are summarized for future reference."
   ]
  },
  {
   "cell_type": "markdown",
   "id": "fcca6ed8",
   "metadata": {},
   "source": [
    "A deployment checklist is tracked:\n",
    "- Environment files are reviewed and populated without committing secrets.\n",
    "- docker compose build and docker compose up commands are executed locally for testing.\n",
    "- Health checks are observed via /health before promoting changes.\n",
    "- A demo script is outlined describing backend startup, frontend build, and proxy verification."
   ]
  },
  {
   "cell_type": "markdown",
   "id": "b82b2b57",
   "metadata": {},
   "source": [
    "## Validation / acceptance checks\n",
    "```bash\n",
    "# locally\n",
    "curl http://localhost:8000/health\n",
    "```\n",
    "- Container builds expose the health endpoint for readiness checks.\n",
    "- React development mode shows the described UI state without console errors."
   ]
  },
  {
   "cell_type": "markdown",
   "id": "b294841d",
   "metadata": {},
   "source": [
    "## Homework / extensions\n",
    "- CI/CD pipeline steps are enumerated for automated deployments.\n",
    "- Frontend build artifacts are hosted on a static site provider checklist."
   ]
  }
 ],
 "metadata": {},
 "nbformat": 4,
 "nbformat_minor": 5
}
