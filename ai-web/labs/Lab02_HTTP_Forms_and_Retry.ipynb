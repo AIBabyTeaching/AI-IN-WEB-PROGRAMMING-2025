{
 "cells": [
  {
   "cell_type": "markdown",
   "id": "c6402875",
   "metadata": {},
   "source": [
    "# Lab 02 · HTTP Forms and Retry\n",
    "\n",
    "*This lab notebook provides guided steps. All commands are intended for local execution.*"
   ]
  },
  {
   "cell_type": "markdown",
   "id": "0f49bc88",
   "metadata": {},
   "source": [
    "## Objectives\n",
    "- A robust fetch helper with retry logic is introduced.\n",
    "- A controlled React form is configured with loading and error feedback.\n",
    "- Friendly error messages are surfaced in the UI."
   ]
  },
  {
   "cell_type": "markdown",
   "id": "86bd98d1",
   "metadata": {},
   "source": [
    "## What will be learned\n",
    "- Retry helpers are structured for frontend HTTP calls.\n",
    "- Controlled form patterns in React are rehearsed.\n",
    "- Error boundaries in simple forms are practiced."
   ]
  },
  {
   "cell_type": "markdown",
   "id": "36018592",
   "metadata": {},
   "source": [
    "## Prerequisites & install\n",
    "The following commands are intended for local execution.\n",
    "\n",
    "```bash\n",
    "cd ai-web/frontend\n",
    "npm install\n",
    "```"
   ]
  },
  {
   "cell_type": "markdown",
   "id": "85d7ef5f",
   "metadata": {},
   "source": [
    "## Step-by-step tasks\n",
    "### Step 1: Retry helper placement\n",
    "A retry helper is positioned under src/lib."
   ]
  },
  {
   "cell_type": "code",
   "execution_count": null,
   "id": "530801d0",
   "metadata": {},
   "outputs": [],
   "source": [
    "from pathlib import Path\n",
    "lib = Path(\"ai-web/frontend/src/lib\")\n",
    "lib.mkdir(parents=True, exist_ok=True)\n",
    "(lib / \"retry.js\").write_text('''export async function withRetry(fn, attempts = 2, delayMs = 400) {\n",
    "  let lastError;\n",
    "  for (let attempt = 0; attempt <= attempts; attempt += 1) {\n",
    "    try {\n",
    "      return await fn();\n",
    "    } catch (error) {\n",
    "      lastError = error;\n",
    "    }\n",
    "    await new Promise((resolve) => setTimeout(resolve, delayMs));\n",
    "  }\n",
    "  throw lastError;\n",
    "}\n",
    "''')\n",
    "print(\"Retry helper was written.\")"
   ]
  },
  {
   "cell_type": "markdown",
   "id": "70dc57ad",
   "metadata": {},
   "source": [
    "### Step 2: Form integration\n",
    "App.jsx is updated so the retry helper wraps the echo request and error states remain friendly."
   ]
  },
  {
   "cell_type": "code",
   "execution_count": null,
   "id": "59c4d585",
   "metadata": {},
   "outputs": [],
   "source": [
    "from pathlib import Path\n",
    "app_js = Path(\"ai-web/frontend/src/App.jsx\")\n",
    "text = app_js.read_text()\n",
    "if \"withRetry\" not in text:\n",
    "    text = text.replace(\n",
    "        \"import { post } from './lib/api';\",\n",
    "        \"import { post } from './lib/api';\n",
    "import { withRetry } from './lib/retry';\",\n",
    "    )\n",
    "if \"withRetry\" in text and \"withRetry(() => post\" not in text:\n",
    "    text = text.replace(\n",
    "        \"const json = await post('/echo', { msg });\",\n",
    "        \"const json = await withRetry(() => post('/echo', { msg }), 2, 500);\",\n",
    "    )\n",
    "if \"setError(String(err));\" in text:\n",
    "    text = text.replace(\n",
    "        \"setError(String(err));\",\n",
    "        \"setError('A temporary issue was encountered. Please try again.');\",\n",
    "    )\n",
    "app_js.write_text(text)\n",
    "print(\"App.jsx was adjusted for retry and friendly errors.\")"
   ]
  },
  {
   "cell_type": "markdown",
   "id": "fa9a017e",
   "metadata": {},
   "source": [
    "## Validation / acceptance checks\n",
    "```bash\n",
    "# locally\n",
    "curl -X POST http://localhost:8000/echo -H 'Content-Type: application/json' -d '{\"msg\":\"retry\"}'\n",
    "```\n",
    "- The echoed payload is returned successfully after transient failures are simulated.\n",
    "- React development mode shows the described UI state without console errors."
   ]
  },
  {
   "cell_type": "markdown",
   "id": "4c74384a",
   "metadata": {},
   "source": [
    "## Homework / extensions\n",
    "- Additional retry backoff strategies are outlined for future reference.\n",
    "- Form validation rules are drafted to prevent empty submissions."
   ]
  }
 ],
 "metadata": {},
 "nbformat": 4,
 "nbformat_minor": 5
}
