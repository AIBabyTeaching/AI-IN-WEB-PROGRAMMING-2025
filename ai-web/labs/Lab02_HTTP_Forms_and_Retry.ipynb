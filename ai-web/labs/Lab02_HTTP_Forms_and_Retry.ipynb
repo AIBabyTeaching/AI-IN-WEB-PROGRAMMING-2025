{
 "cells": [
  {
   "cell_type": "markdown",
   "id": "a0af8698",
   "metadata": {},
   "source": [
    "# Lab 02 · HTTP Forms and Retry\n",
    "\n",
    "*This lab notebook provides guided steps. All commands are intended for local execution.*"
   ]
  },
  {
   "cell_type": "markdown",
   "id": "8f5996cd",
   "metadata": {},
   "source": [
    "## Objectives\n",
    "- A robust fetch helper with retry logic is introduced.\n",
    "- A controlled React form is configured with loading and error feedback.\n",
    "- Friendly error messages are surfaced in the UI."
   ]
  },
  {
   "cell_type": "markdown",
   "id": "5b95786a",
   "metadata": {},
   "source": [
    "## What will be learned\n",
    "- Retry helpers are structured for frontend HTTP calls.\n",
    "- Controlled form patterns in React are rehearsed.\n",
    "- Error boundaries in simple forms are practiced."
   ]
  },
  {
   "cell_type": "markdown",
   "id": "4334fb15",
   "metadata": {},
   "source": [
    "## Prerequisites & install\n",
    "The following commands are intended for local execution.\n",
    "\n",
    "```bash\n",
    "cd ai-web/frontend\n",
    "npm install\n",
    "```"
   ]
  },
  {
   "cell_type": "markdown",
   "id": "14db1484",
   "metadata": {},
   "source": [
    "## Step-by-step tasks\n",
    "### Step 1: Retry helper placement\n",
    "A retry helper is positioned under src/lib."
   ]
  },
  {
   "cell_type": "code",
   "execution_count": null,
   "id": "25f1e0b2",
   "metadata": {},
   "outputs": [],
   "source": [
    "from pathlib import Path\n",
    "lib = Path(\"ai-web/frontend/src/lib\")\n",
    "lib.mkdir(parents=True, exist_ok=True)\n",
    "(lib / \"retry.js\").write_text('''export async function withRetry(fn, attempts = 2, delayMs = 400) {\n",
    "  let lastError;\n",
    "  for (let attempt = 0; attempt <= attempts; attempt += 1) {\n",
    "    try {\n",
    "      return await fn();\n",
    "    } catch (error) {\n",
    "      lastError = error;\n",
    "    }\n",
    "    await new Promise((resolve) => setTimeout(resolve, delayMs));\n",
    "  }\n",
    "  throw lastError;\n",
    "}\n",
    "''')\n",
    "print(\"Retry helper was written.\")"
   ]
  },
  {
   "cell_type": "markdown",
   "id": "518be421",
   "metadata": {},
   "source": [
    "### Step 2: Form integration\n",
    "App.js is updated so the retry helper wraps the echo request and error states remain friendly."
   ]
  },
  {
   "cell_type": "code",
   "execution_count": null,
   "id": "b61f4b6e",
   "metadata": {},
   "outputs": [],
   "source": [
    "from pathlib import Path\n",
    "app_js = Path(\"ai-web/frontend/src/App.js\")\n",
    "text = app_js.read_text()\n",
    "if \"withRetry\" not in text:\n",
    "    text = text.replace(\n",
    "        \"import { post } from './lib/api';\",\n",
    "        \"import { post } from './lib/api';\n",
    "import { withRetry } from './lib/retry';\",\n",
    "    )\n",
    "if \"withRetry\" in text and \"withRetry(() => post\" not in text:\n",
    "    text = text.replace(\n",
    "        \"const json = await post('/echo', { msg });\",\n",
    "        \"const json = await withRetry(() => post('/echo', { msg }), 2, 500);\",\n",
    "    )\n",
    "if \"setError(String(err));\" in text:\n",
    "    text = text.replace(\n",
    "        \"setError(String(err));\",\n",
    "        \"setError('A temporary issue was encountered. Please try again.');\",\n",
    "    )\n",
    "app_js.write_text(text)\n",
    "print(\"App.js was adjusted for retry and friendly errors.\")"
   ]
  },
  {
   "cell_type": "markdown",
   "id": "cd67b660",
   "metadata": {},
   "source": [
    "## Validation / acceptance checks\n",
    "```bash\n",
    "# locally\n",
    "curl -X POST http://localhost:8000/echo -H 'Content-Type: application/json' -d '{\"msg\":\"retry\"}'\n",
    "```\n",
    "- The echoed payload is returned successfully after transient failures are simulated.\n",
    "- React development mode shows the described UI state without console errors."
   ]
  },
  {
   "cell_type": "markdown",
   "id": "637adf6b",
   "metadata": {},
   "source": [
    "## Homework / extensions\n",
    "- Additional retry backoff strategies are outlined for future reference.\n",
    "- Form validation rules are drafted to prevent empty submissions."
   ]
  }
 ],
 "metadata": {
  "kernelspec": {
   "display_name": "mitocluster",
   "language": "python",
   "name": "python3"
  },
  "language_info": {
   "name": "python",
   "version": "3.11.5"
  }
 },
 "nbformat": 4,
 "nbformat_minor": 5
}
