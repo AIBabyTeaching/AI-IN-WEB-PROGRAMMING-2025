{
 "cells": [
  {
   "cell_type": "markdown",
   "id": "c6402875",
   "metadata": {},
   "source": [
    "# Lab 02 · HTTP Forms and Retry\n",
    "\n",
    "*This lab notebook provides guided steps. All commands are intended for local execution.*"
   ]
  },
  {
   "cell_type": "markdown",
   "id": "0f49bc88",
   "metadata": {},
   "source": [
    "## Objectives\n",
    "- A robust fetch helper with retry logic is introduced.\n",
    "- A controlled React form is configured with loading and error feedback.\n",
    "- Friendly error messages are surfaced in the UI."
   ]
  },
  {
   "cell_type": "markdown",
   "id": "86bd98d1",
   "metadata": {},
   "source": [
    "## What will be learned\n",
    "- Retry helpers are structured for frontend HTTP calls.\n",
    "- Controlled form patterns in React are rehearsed.\n",
    "- Error boundaries in simple forms are practiced."
   ]
  },
  {
   "cell_type": "markdown",
   "id": "36018592",
   "metadata": {},
   "source": [
    "## Prerequisites & install\n",
    "The following commands are intended for local execution.\n",
    "\n",
    "```bash\n",
    "cd ai-web/frontend\n",
    "npm install\n",
    "```"
   ]
  },
  {
   "cell_type": "markdown",
   "id": "85d7ef5f",
   "metadata": {},
   "source": [
    "## Step-by-step tasks\n",
    "### Step 1: Retry helper placement\n",
    "A retry helper is positioned under src/lib."
   ]
  },
  {
   "cell_type": "code",
   "execution_count": null,
   "id": "530801d0",
   "metadata": {},
   "outputs": [],
   "source": [
    "from pathlib import Path\n",
    "lib = Path(\"ai-web/frontend/src/lib\")\n",
    "lib.mkdir(parents=True, exist_ok=True)\n",
    "(lib / \"retry.js\").write_text('''export async function withRetry(fn, attempts = 2, delayMs = 400) {\n",
    "  let lastError;\n",
    "  for (let attempt = 0; attempt <= attempts; attempt += 1) {\n",
    "    try {\n",
    "      return await fn();\n",
    "    } catch (error) {\n",
    "      lastError = error;\n",
    "    }\n",
    "    await new Promise((resolve) => setTimeout(resolve, delayMs));\n",
    "  }\n",
    "  throw lastError;\n",
    "}\n",
    "''')\n",
    "print(\"Retry helper was written.\")"
   ]
  },
  {
   "cell_type": "markdown",
   "id": "70dc57ad",
   "metadata": {},
   "source": [
    "### Step 2: Form integration\n",
    "The React form now leans on a reusable `withRetry` helper so network hiccups do not derail the student experience. The flow looks like this:\n",
    "\n",
    "1. Collect user input in local component state.\n",
    "2. Call `withRetry` with an async function that posts the form data.\n",
    "3. Retry the call if a transient failure occurs, backing off briefly between attempts.\n",
    "4. Show a friendly message if every attempt fails, otherwise render the echoed response.\n",
    "\n",
    "```jsx\n",
    "const sendEcho = () =>\n",
    "  withRetry(() => post('/echo', { msg }), 2, 500);\n",
    "```\n",
    "\n",
    "Because `withRetry` only depends on an async callback, you can scale the pattern across modules. For example, a profile page could share the helper from `src/lib/retry.js` and dial in its own policy:\n",
    "\n",
    "```jsx\n",
    "const fetchProfile = () =>\n",
    "  withRetry(() => api.getProfile(userId), 3, 800);\n",
    "```\n",
    "\n",
    "> Tip: pass higher attempt counts and delays when hitting slower services or when layering exponential backoff (`delayMs * attempt`).\n",
    "\n",
    "Larger forms follow the same controlled-input structure: hold each field in state, validate before submitting, and surface field-level errors next to the relevant inputs. When multiple fields need to submit together, build one payload object and reuse `withRetry` so the entire submission benefits from resilience.\n",
    "\n",
    "To see retries in action, the backend now exposes `/flaky-echo`. Point the helper at it during testing:\n",
    "\n",
    "```jsx\n",
    "await withRetry(\n",
    "  () => post('/flaky-echo?failures=2', { msg }),\n",
    "  3,\n",
    "  500,\n",
    ");\n",
    "```\n",
    "\n",
    "The first two requests return HTTP 503 errors, the third succeeds, and the UI recovers gracefully. Wrap longer-lived retry sequences in loading spinners, keep buttons disabled until the promise settles, and consider error boundaries to catch truly fatal issues. These guardrails help the codebase grow while staying aligned with the lab’s resilient frontend architecture."
   ]
  },
  {
   "cell_type": "code",
   "execution_count": null,
   "id": "59c4d585",
   "metadata": {},
   "outputs": [],
   "source": [
    "from pathlib import Path\n",
    "app_js = Path(\"ai-web/frontend/src/App.jsx\")\n",
    "text = app_js.read_text()\n",
    "if \"withRetry\" not in text:\n",
    "    text = text.replace(\n",
    "        \"import { post } from './lib/api';\",\n",
    "        \"import { post } from './lib/api';\n",
    "import { withRetry } from './lib/retry';\",\n",
    "    )\n",
    "if \"withRetry\" in text and \"withRetry(() => post\" not in text:\n",
    "    text = text.replace(\n",
    "        \"const json = await post('/echo', { msg });\",\n",
    "        \"const json = await withRetry(() => post('/echo', { msg }), 2, 500);\",\n",
    "    )\n",
    "if \"setError(String(err));\" in text:\n",
    "    text = text.replace(\n",
    "        \"setError(String(err));\",\n",
    "        \"setError('A temporary issue was encountered. Please try again.');\",\n",
    "    )\n",
    "app_js.write_text(text)\n",
    "print(\"App.jsx was adjusted for retry and friendly errors.\")"
   ]
  },
  {
   "cell_type": "markdown",
   "id": "fa9a017e",
   "metadata": {},
   "source": [
    "## Validation / acceptance checks\n",
    "```bash\n",
    "# locally\n",
    "curl -X POST http://localhost:8000/echo -H 'Content-Type: application/json' -d '{\"msg\":\"retry\"}'\n",
    "```\n",
    "- The echoed payload is returned successfully after transient failures are simulated.\n",
    "- React development mode shows the described UI state without console errors."
   ]
  },
  {
   "cell_type": "markdown",
   "id": "4c74384a",
   "metadata": {},
   "source": [
    "## Homework / extensions\n",
    "- Additional retry backoff strategies are outlined for future reference.\n",
    "- Form validation rules are drafted to prevent empty submissions."
   ]
  }
 ],
 "metadata": {},
 "nbformat": 4,
 "nbformat_minor": 5
}
